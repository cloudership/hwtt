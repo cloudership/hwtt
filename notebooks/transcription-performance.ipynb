{
 "cells": [
  {
   "metadata": {},
   "cell_type": "markdown",
   "source": "# Transcription Performance",
   "id": "b26f69bf2ea738f1"
  },
  {
   "metadata": {
    "ExecuteTime": {
     "end_time": "2025-08-08T20:28:25.681281Z",
     "start_time": "2025-08-08T20:28:25.674072Z"
    }
   },
   "cell_type": "code",
   "source": [
    "import base64\n",
    "import os\n",
    "import sys\n",
    "\n",
    "import litellm\n",
    "from dotenv import load_dotenv\n",
    "from litellm.utils import supports_pdf_input\n",
    "\n",
    "module_path = os.path.abspath(os.path.join('..'))\n",
    "if module_path not in sys.path:\n",
    "    sys.path.append(module_path)\n",
    "\n",
    "load_dotenv()\n",
    "\n",
    "if not os.getenv('OPENAI_API_KEY'):\n",
    "    raise ValueError(\"Please set OPENAI_API_KEY environment variable\")\n",
    "\n",
    "print('OPENAI_API_KEY=' + os.getenv('OPENAI_API_KEY')[:20] + '...')"
   ],
   "id": "56942efb9137be43",
   "outputs": [
    {
     "name": "stdout",
     "output_type": "stream",
     "text": [
      "OPENAI_API_KEY=sk-proj-ZhcCqw0r70dP...\n"
     ]
    }
   ],
   "execution_count": 3
  },
  {
   "metadata": {
    "ExecuteTime": {
     "end_time": "2025-08-08T20:33:25.020567Z",
     "start_time": "2025-08-08T20:33:25.017070Z"
    }
   },
   "cell_type": "code",
   "source": "PDF_FILE = module_path + \"/content/strawberry-part-1.pdf\"",
   "id": "940588c5a4f8e8f9",
   "outputs": [],
   "execution_count": 5
  },
  {
   "metadata": {
    "ExecuteTime": {
     "end_time": "2025-08-08T20:50:18.000442Z",
     "start_time": "2025-08-08T20:50:17.987624Z"
    }
   },
   "cell_type": "code",
   "source": [
    "with open(PDF_FILE, 'rb') as f:\n",
    "    encoded_file = base64.b64encode(f.read()).decode(\"utf-8\")\n",
    "\n",
    "file_content = [\n",
    "    {\n",
    "        \"type\": \"text\",\n",
    "        \"text\": \"\"\"\n",
    "        Transcribe text in image. Output in markdown.\n",
    "\n",
    "        Do not include any prompts or text in the output except transcription.\n",
    "\n",
    "        Apply edit notes to text before outputting. Do not include edit notes in output. If move instructions are given, follow them precisely even if it means inserting text in the middle of other speech.\n",
    "\n",
    "        Ensure that when edit marks move parts of speech, any speech from the old or new location is correctly wrapped in quotes. Treat these punctuation marks as end of sentences: full-stop (.), question mark (?), exclamation mark (!).\n",
    "\n",
    "        Output should be formatted for reading and be formatted in the style of the original text as much as possible.\n",
    "\n",
    "        Ensure paragraphs have double line breaks. Do not include line breaks except at the end of paragraphs or when explicitly seen in the text - ensure they are Markdown line breaks.\n",
    "        \"\"\"\n",
    "    },\n",
    "    {\n",
    "        \"type\": \"file\",\n",
    "        \"file\": {\n",
    "            \"file_data\": f\"data:application/pdf;base64,{encoded_file}\",\n",
    "        }\n",
    "    },\n",
    "]\n",
    "\n",
    "\n",
    "def transcribe(model, **kwargs):\n",
    "    if not supports_pdf_input(model):\n",
    "        raise Exception(\"model does not support PDF input\")\n",
    "\n",
    "    response = litellm.completion(\n",
    "        model=model,\n",
    "        messages=[\n",
    "            {\n",
    "                \"role\": \"user\",\n",
    "                \"content\": file_content,\n",
    "            }\n",
    "        ],\n",
    "        **kwargs,\n",
    "    )\n",
    "\n",
    "    print(response.choices[0].message.content)"
   ],
   "id": "bedce729be34af6a",
   "outputs": [],
   "execution_count": 31
  },
  {
   "metadata": {
    "ExecuteTime": {
     "end_time": "2025-08-08T20:44:29.045672Z",
     "start_time": "2025-08-08T20:44:29.042464Z"
    }
   },
   "cell_type": "code",
   "source": [
    "expected = \"\"\"\n",
    "The poor strawberry watched as all its siblings were taken one by one, by the kids at the party.\n",
    "\n",
    "Since it had appeared on the bush, it had known it was different.\n",
    "\n",
    "\"Butt berry,\" the others would call it. That had hurt. It had been overjoyed to be picked by the little girl. Its purpose would be fulfilled, and it would be eaten!\n",
    "\n",
    "But it had realised with dismay that even the humans thought it was weird.\n",
    "\n",
    "Sari, dear, pick the nice looking ones next time, we don't want more comments from your grandmother!\n",
    "*I am a damaged and worthless thing*\n",
    "\"Why did you pick that one with the strange shape!\"\n",
    "\n",
    "Now, all that seemed in the past. It's time had come. It hoped. But none of the kids took it.\n",
    "\n",
    "It sat there in the bowl, feeling sorry for itself, wishing it was normal. Wishing it had a fat top and a pointy bottom. The others did. They had gloated on the way out, when they had been picked, calling it a failure, a loser, damaged goods.\n",
    "\n",
    "But then the girl who picked it came over. She took it and\n",
    "\"\"\""
   ],
   "id": "6088f9614fbc48f2",
   "outputs": [],
   "execution_count": 28
  },
  {
   "metadata": {
    "ExecuteTime": {
     "end_time": "2025-08-08T20:50:49.451399Z",
     "start_time": "2025-08-08T20:50:28.679587Z"
    }
   },
   "cell_type": "code",
   "source": [
    "# Model versions: https://ai.google.dev/gemini-api/docs/models#model-versions\n",
    "transcribe(\"gemini/gemini-2.5-flash\", reasoning_effort=\"high\")"
   ],
   "id": "457295238ff43018",
   "outputs": [
    {
     "name": "stdout",
     "output_type": "stream",
     "text": [
      "The poor strawberry watched as all its siblings were taken one by one, by the kids at the party.\n",
      "\n",
      "Since it had appeared on the bush, it had known it was different.\n",
      "\n",
      "“Butt berry,” the others would call it. That had hurt. It had been overjoyed to be picked by the little girl - It's purpose would be fulfilled, and it would be eaten!\n",
      "\n",
      "But it had realised with dismay that even the humans thought it was weird.\n",
      "\n",
      "“Why did you pick that one with the strange shape! Sari, dear, pick the nice looking ones next time, we don't want more comments from your grandmother.”\n",
      "\n",
      "*I am a damaged and worthless thing.*\n",
      "\n",
      "Now, all that seemed in the past. It's time had come. It hoped. But none of the kids took it.\n",
      "\n",
      "It sat there in the bowl, feeling sorry for itself, wishing it was normal. Wishing it had a fat top and a pointy bottom. The others did. They had gloated on the way out when they had been picked, calling it a failure, a loser, damaged goods.\n",
      "\n",
      "But then the girl who picked it came over. She took it and\n"
     ]
    }
   ],
   "execution_count": 33
  },
  {
   "metadata": {
    "ExecuteTime": {
     "end_time": "2025-08-08T20:57:07.754152Z",
     "start_time": "2025-08-08T20:56:23.402194Z"
    }
   },
   "cell_type": "code",
   "source": [
    "# Model versions: https://ai.google.dev/gemini-api/docs/models#model-versions\n",
    "transcribe(\"gemini/gemini-2.5-pro\", reasoning_effort=\"high\")"
   ],
   "id": "7d5289df51288748",
   "outputs": [
    {
     "name": "stdout",
     "output_type": "stream",
     "text": [
      "The poor strawberry watched as all its siblings were taken, one by one, by the kids at the party.\n",
      "\n",
      "Since it had appeared on the bush, it had known it was different.\n",
      "\n",
      "\"Butt berry,\" the others would call it. That had hurt. It had been overjoyed to be picked by the little girl - It's purpose would be fulfilled, and it would be eaten!\n",
      "\n",
      "But it had realised with dismay that even the humans thought it was weird.\n",
      "\n",
      "\"Why did you pick that one with the strange shape! Sari, dear, pick the nice looking ones next time, we don't want more comments from your grandmother\"\n",
      "\n",
      "*I am a damaged and worthless thing.*\n",
      "\n",
      "Now, all that seemed in the past. It's time had come. It hoped. But none of the kids took it.\n",
      "\n",
      "It sat there in the bowl, feeling sorry for itself, wishing it was normal. Wishing it had a fat top and a pointy bottom. The others did. They had gloated on the way out when they had been picked, calling it a failure, a loser, damaged goods..\n",
      "\n",
      "But then the girl who picked it came over. She took it and\n"
     ]
    }
   ],
   "execution_count": 34
  },
  {
   "metadata": {
    "ExecuteTime": {
     "end_time": "2025-08-08T21:02:02.486656Z",
     "start_time": "2025-08-08T21:01:56.749268Z"
    }
   },
   "cell_type": "code",
   "source": "transcribe(\"gpt-4.1-mini\")",
   "id": "8c83d0ec4b0a17a5",
   "outputs": [
    {
     "name": "stdout",
     "output_type": "stream",
     "text": [
      "The poor strawberry watched as all its siblings were taken, one by one, by the kids at the party.\n",
      "\n",
      "Since it had appeared on the bush, it had known it was different.\n",
      "\n",
      "“Butt berry,” the others would call it. That had hurt. It had been overjoyed to be picked by the little girl. “It's purpose would be fulfilled, and it would be eaten!”\n",
      "\n",
      "But it had realised with dismay that even the humans thought it was weird.\n",
      "\n",
      "*I am a damaged and worthless thing.*\n",
      "\n",
      "“Why did you pick that one with the strange shape! Sari, dear, pick the nice looking ones next time, we don’t want more comments from your grandmother.”\n",
      "\n",
      "Now, all that seemed in the past. It’s time had come. It hoped. But none of the kids took it.\n",
      "\n",
      "It sat there in the bowl, feeling sorry for itself, wishing it was normal. Wishing it had a fat top and a pointy bottom. The others did. They had floated on the way out when they had been picked, calling it a failure, a loser, damaged goods.\n",
      "\n",
      "But then the girl who picked it came over. She took it and...\n"
     ]
    }
   ],
   "execution_count": 36
  },
  {
   "metadata": {
    "ExecuteTime": {
     "end_time": "2025-08-08T21:02:57.828849Z",
     "start_time": "2025-08-08T21:02:21.917704Z"
    }
   },
   "cell_type": "code",
   "source": "transcribe(\"gpt-5-mini\")",
   "id": "8f4734b6bc02d579",
   "outputs": [
    {
     "name": "stdout",
     "output_type": "stream",
     "text": [
      "The poor strawberry watched as all its siblings were taken, one by one, by the kids at the party.\n",
      "\n",
      "Since it had appeared on the bush, it had known it was different.\n",
      "\n",
      "\"Butt berry,\" the others would call it. That had hurt. It had been overjoyed to be picked by the little girl. It's purpose would be fulfilled and it would be eaten!\n",
      "\n",
      "But it had realised with dismay that even the humans thought it was weird.\n",
      "\n",
      "\"Sari, dear, pick the nicer looking ones next time, we don't want more comments from your grandmother.\"\n",
      "\n",
      "*I am a damaged and worthless thing.*\n",
      "\n",
      "\"Why did you pick that one with the strange shape!\"\n",
      "\n",
      "Now, all that seemed in the past. Its time had come. It hoped. But none of the kids took it. It sat there in the bowl, feeling sorry for itself, wishing it was normal. Wishing it had a flat top and a pointy bottom. The others did. They had gloated on the way out when they had been picked, calling it a failure, a loser, damaged goods.\n",
      "\n",
      "But then the girl who picked it came over. She took it and\n"
     ]
    }
   ],
   "execution_count": 37
  }
 ],
 "metadata": {
  "kernelspec": {
   "name": "python3",
   "language": "python",
   "display_name": "Python 3 (ipykernel)"
  }
 },
 "nbformat": 4,
 "nbformat_minor": 5
}
