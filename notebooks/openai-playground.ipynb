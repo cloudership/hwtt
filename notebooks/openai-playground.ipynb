{
 "cells": [
  {
   "metadata": {},
   "cell_type": "markdown",
   "source": "# OpenAI Playground",
   "id": "b26f69bf2ea738f1"
  },
  {
   "metadata": {
    "ExecuteTime": {
     "end_time": "2025-07-09T20:29:45.897076Z",
     "start_time": "2025-07-09T20:29:45.887022Z"
    }
   },
   "cell_type": "code",
   "source": [
    "import base64\n",
    "import os\n",
    "import sys\n",
    "\n",
    "import openai\n",
    "from dotenv import load_dotenv\n",
    "\n",
    "module_path = os.path.abspath(os.path.join('..'))\n",
    "if module_path not in sys.path:\n",
    "    sys.path.append(module_path)\n",
    "\n",
    "from hwtt.file_handling import extract_images_from_pdf\n",
    "\n",
    "load_dotenv()\n",
    "\n",
    "if not os.getenv('OPENAI_API_KEY'):\n",
    "    raise ValueError(\"Please set OPENAI_API_KEY environment variable\")\n",
    "\n",
    "print('OPENAI_API_KEY=' + os.getenv('OPENAI_API_KEY')[:20] + '...')"
   ],
   "id": "56942efb9137be43",
   "outputs": [
    {
     "name": "stdout",
     "output_type": "stream",
     "text": [
      "OPENAI_API_KEY=sk-proj-ZhcCqw0r70dP...\n"
     ]
    }
   ],
   "execution_count": 6
  },
  {
   "metadata": {},
   "cell_type": "markdown",
   "source": "# Can we talk to OpenAI?",
   "id": "fb7af66461bb2b94"
  },
  {
   "metadata": {
    "ExecuteTime": {
     "end_time": "2025-07-04T18:44:26.938175Z",
     "start_time": "2025-07-04T18:44:23.193595Z"
    }
   },
   "cell_type": "code",
   "source": [
    "response = openai.OpenAI().responses.create(\n",
    "    model=\"gpt-4.1-mini\",\n",
    "    input=[\n",
    "        {\n",
    "            \"role\": \"user\",\n",
    "            \"content\": \"Write a three-sentence bedtime story about a unicorn.\"\n",
    "                       \"Include a beginning, middle, and end.\"\n",
    "                       \"The middle is the inflection point where the plot goes from reaction to action.\"\n",
    "        }\n",
    "    ],\n",
    "    store=False,\n",
    ")\n",
    "\n",
    "print(response.output_text)"
   ],
   "id": "5ec12462386fe5ee",
   "outputs": [
    {
     "name": "stdout",
     "output_type": "stream",
     "text": [
      "In a magical forest, a shy unicorn named Luna wished she could shine as bright as the stars. One night, she heard a cry for help and bravely followed the sound to rescue a lost baby owl, discovering her own glowing horn could light the darkest paths. From that day on, Luna used her light to guide friends safely home, feeling proud and confident under the starry sky.\n"
     ]
    }
   ],
   "execution_count": 4
  },
  {
   "metadata": {},
   "cell_type": "markdown",
   "source": "# Let's transcribe something",
   "id": "f067f89012facc41"
  },
  {
   "metadata": {
    "ExecuteTime": {
     "end_time": "2025-07-09T20:29:51.275662Z",
     "start_time": "2025-07-09T20:29:51.261282Z"
    }
   },
   "cell_type": "code",
   "source": [
    "pdf_file = module_path + \"/content/strawberry-part-1.pdf\"\n",
    "base64_pages = [base64.b64encode(page).decode('ascii') for page in extract_images_from_pdf(pdf_file)]"
   ],
   "id": "ea9563acd409112a",
   "outputs": [],
   "execution_count": 7
  },
  {
   "metadata": {
    "ExecuteTime": {
     "end_time": "2025-07-09T20:32:39.690660Z",
     "start_time": "2025-07-09T20:32:29.753429Z"
    }
   },
   "cell_type": "code",
   "source": [
    "response = openai.OpenAI().responses.create(\n",
    "    model=\"gpt-4.1-mini\",\n",
    "    input=[\n",
    "        {\n",
    "            \"role\": \"user\",\n",
    "            \"content\": [\n",
    "                {\"type\": \"input_text\",\n",
    "                 \"text\": \"Transcribe text in image. Apply edit notes to text before outputting. Do not include edit notes in output. Do not include any prompts or text in the output except transcription.\"},\n",
    "                {\n",
    "                    \"type\": \"input_image\",\n",
    "                    \"image_url\": f\"data:image/jpeg;base64,{base64_pages[0]}\",\n",
    "                },\n",
    "                {\n",
    "                    \"type\": \"input_image\",\n",
    "                    \"image_url\": f\"data:image/jpeg;base64,{base64_pages[1]}\",\n",
    "                },\n",
    "            ],\n",
    "        }\n",
    "    ],\n",
    ")\n",
    "\n",
    "print(response.output_text)"
   ],
   "id": "bedce729be34af6a",
   "outputs": [
    {
     "name": "stdout",
     "output_type": "stream",
     "text": [
      "The poor strawberry watched as all its siblings were taken, one by one, by the kids at the party.\n",
      "Since it had appeared on the bush, it had known it was different.\n",
      "\"Butt berry,\" the others would call it. That had hurt. It had been overjoyed to be picked by the little girl. Its purpose would be fulfilled, and it would be eaten!\n",
      "But it had realised with dismay that even the humans thought it was weird.\n",
      "I am a damaged and worthless thing.\n",
      "\"Why did you pick that\n",
      "\n",
      "one with the strange shape! Sari, dear, pick the nice looking ones next time, we don't want more comments from your grandmother.\"\n",
      "Now, all that seemed in the past. It's time had come. It hoped. But none of the kids took it.\n",
      "It sat there in the bowl, feeling sorry for itself, wishing it was normal. Wishing it had a fat top and a pointy bottom. The others did. They had floated on the way out when they had been picked, calling it a failure, a loser, damaged goods.\n",
      "But then the girl who picked it came over. She took it and\n"
     ]
    }
   ],
   "execution_count": 11
  }
 ],
 "metadata": {},
 "nbformat": 4,
 "nbformat_minor": 5
}
