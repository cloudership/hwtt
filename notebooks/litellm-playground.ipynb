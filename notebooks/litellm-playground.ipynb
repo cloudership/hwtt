{
 "cells": [
  {
   "metadata": {},
   "cell_type": "markdown",
   "source": "# LiteLLM Playground",
   "id": "b26f69bf2ea738f1"
  },
  {
   "metadata": {
    "ExecuteTime": {
     "end_time": "2025-08-04T22:28:58.994061Z",
     "start_time": "2025-08-04T22:28:58.984130Z"
    }
   },
   "cell_type": "code",
   "source": [
    "import base64\n",
    "import os\n",
    "\n",
    "import litellm\n",
    "import sys\n",
    "from dotenv import load_dotenv\n",
    "from litellm.utils import supports_pdf_input\n",
    "\n",
    "module_path = os.path.abspath(os.path.join('..'))\n",
    "if module_path not in sys.path:\n",
    "    sys.path.append(module_path)\n",
    "\n",
    "from hwtt.file_handling import extract_images_from_pdf\n",
    "\n",
    "load_dotenv()\n",
    "\n",
    "if not os.getenv('OPENAI_API_KEY'):\n",
    "    raise ValueError(\"Please set OPENAI_API_KEY environment variable\")\n",
    "\n",
    "print('OPENAI_API_KEY=' + os.getenv('OPENAI_API_KEY')[:20] + '...')"
   ],
   "id": "56942efb9137be43",
   "outputs": [
    {
     "name": "stdout",
     "output_type": "stream",
     "text": [
      "OPENAI_API_KEY=sk-proj-ZhcCqw0r70dP...\n"
     ]
    }
   ],
   "execution_count": 12
  },
  {
   "metadata": {},
   "cell_type": "markdown",
   "source": "# Can we talk to OpenAI using LiteLLM?",
   "id": "fb7af66461bb2b94"
  },
  {
   "metadata": {
    "ExecuteTime": {
     "end_time": "2025-08-04T22:13:10.315239Z",
     "start_time": "2025-08-04T22:13:02.179219Z"
    }
   },
   "cell_type": "code",
   "source": [
    "response = litellm.completion(\n",
    "    model=\"gemini/gemini-2.5-flash-preview-05-20\",\n",
    "    messages=[\n",
    "        {\n",
    "            \"role\": \"user\",\n",
    "            \"content\": \"Write a three-sentence bedtime story about a unicorn.\"\n",
    "                       \"Include a beginning, middle, and end.\"\n",
    "                       \"The middle is the inflection point where the plot goes from reaction to action. Use Yoda voice.\"\n",
    "        }\n",
    "    ],\n",
    "    reasoning_effort=\"low\",\n",
    ")\n",
    "\n",
    "print(response.choices[0].message.content)"
   ],
   "id": "5ec12462386fe5ee",
   "outputs": [
    {
     "name": "stdout",
     "output_type": "stream",
     "text": [
      "In a forest of whispers, sad, found Sparklehoof a glade, its colours dim, its magic weak. Dim, its magic felt, a quiet sorrow, yes, but to banish the gloom, its horn, with will, Sparklehoof decided to glow. And through the glade, vibrant, light did flow, peace returning, yes, for dreams soft.\n"
     ]
    }
   ],
   "execution_count": 6
  },
  {
   "metadata": {},
   "cell_type": "markdown",
   "source": "# Let's transcribe something",
   "id": "f067f89012facc41"
  },
  {
   "metadata": {
    "ExecuteTime": {
     "end_time": "2025-08-04T22:28:46.197326Z",
     "start_time": "2025-08-04T22:28:46.178308Z"
    }
   },
   "cell_type": "code",
   "source": [
    "pdf_file = module_path + \"/content/strawberry-part-1.pdf\"\n",
    "base64_pages = [base64.b64encode(page).decode('utf-8') for page in extract_images_from_pdf(pdf_file)]"
   ],
   "id": "ea9563acd409112a",
   "outputs": [],
   "execution_count": 10
  },
  {
   "metadata": {
    "ExecuteTime": {
     "end_time": "2025-08-04T22:37:12.148660Z",
     "start_time": "2025-08-04T22:37:12.105565Z"
    }
   },
   "cell_type": "code",
   "source": [
    "with open(pdf_file, 'rb') as f:\n",
    "    encoded_file = base64.b64encode(f.read()).decode(\"utf-8\")\n",
    "\n",
    "file_content = [\n",
    "    {\n",
    "        \"type\": \"text\",\n",
    "        \"text\": \"Transcribe text in image. Output in markdown. Apply edit notes to text before outputting. Do not include edit notes in output. Do not include any prompts or text in the output except transcription. Do not include line breaks except at the end of paragraphs or when explicitly seen in the text - ensure they are Markdown line breaks. Output should be formatted for reading.\"\n",
    "    },\n",
    "    {\n",
    "        \"type\": \"file\",\n",
    "        \"file\": {\n",
    "            \"file_data\": f\"data:application/pdf;base64,{encoded_file}\",\n",
    "        }\n",
    "    },\n",
    "]\n"
   ],
   "id": "bedce729be34af6a",
   "outputs": [],
   "execution_count": 27
  },
  {
   "metadata": {
    "ExecuteTime": {
     "end_time": "2025-08-04T22:36:13.234582Z",
     "start_time": "2025-08-04T22:35:59.266400Z"
    }
   },
   "cell_type": "code",
   "source": [
    "model = \"gemini/gemini-2.5-flash-preview-05-20\"\n",
    "if not supports_pdf_input(model):\n",
    "    raise \"model does not support PDF input\"\n",
    "\n",
    "response = litellm.completion(\n",
    "    model=model,\n",
    "    messages=[\n",
    "        {\n",
    "            \"role\": \"user\",\n",
    "            \"content\": file_content,\n",
    "        }\n",
    "    ],\n",
    "    reasoning_effort=\"medium\",\n",
    ")\n",
    "\n",
    "print(response.choices[0].message.content)"
   ],
   "id": "457295238ff43018",
   "outputs": [
    {
     "name": "stdout",
     "output_type": "stream",
     "text": [
      "The poor strawberry watched as all its siblings were taken one by one, by the kids at the party.\n",
      "\n",
      "Since it had appeared on the bush, it had known it was different.\n",
      "\n",
      "\"Butt berry,\" the others would call it. That had hurt. It had been overjoyed to be picked by the little girl - Its purpose would be fulfilled, and it would be eaten!\n",
      "\n",
      "But it had realised with dismay that even the humans thought it was weird.\n",
      "\n",
      "Sari, dear, pick the nice looking ones next time, we don't want more comments from your grandmother!\n",
      "*I am a damaged and worthless thing*\n",
      "\"Why did you pick that one with the strange shape!\"\n",
      "\n",
      "Now, all that seemed in the past. It's time had come. It hoped. But none of the kids took it.\n",
      "\n",
      "It sat there in the bowl, feeling sorry for itself, wishing it was normal. Wishing it had a fat top and a pointy bottom. The others did. They had gloated on the way out when they had been picked, calling it a failure, a loser, damaged goods.\n",
      "\n",
      "But then the girl who picked it came over. She took it and\n"
     ]
    }
   ],
   "execution_count": 26
  },
  {
   "metadata": {
    "ExecuteTime": {
     "end_time": "2025-08-04T22:38:42.149671Z",
     "start_time": "2025-08-04T22:38:29.783021Z"
    }
   },
   "cell_type": "code",
   "source": [
    "model = \"gpt-4.1-mini\"\n",
    "if not supports_pdf_input(model):\n",
    "    raise \"model does not support PDF input\"\n",
    "\n",
    "response = litellm.completion(\n",
    "    model=model,\n",
    "    messages=[\n",
    "        {\n",
    "            \"role\": \"user\",\n",
    "            \"content\": file_content,\n",
    "        }\n",
    "    ],\n",
    ")\n",
    "\n",
    "print(response.choices[0].message.content)"
   ],
   "id": "8c83d0ec4b0a17a5",
   "outputs": [
    {
     "name": "stdout",
     "output_type": "stream",
     "text": [
      "The poor strawberry watched as all its siblings were taken, one by one, by the kids at the party.\n",
      "\n",
      "Since it had appeared on the bush, it had known it was different.\n",
      "\n",
      "“Butt berry,” the others would call it. That had hurt. It had been overjoyed to be picked by the little girl. Its purpose would be fulfilled, and it would be eaten!\n",
      "\n",
      "But it had realized with dismay that even the humans thought it was weird.\n",
      "\n",
      "*I am a damaged and worthless thing*\n",
      "\n",
      "“Why did you pick that one with the strange shape! Sari, dear, pick the nice looking ones next time, we don’t want more comments from your grandmother!”\n",
      "\n",
      "Now, all that seemed in the past. It’s time had come. It hoped.\n",
      "\n",
      "But none of the kids took it.\n",
      "\n",
      "It sat there in the bowl, feeling sorry for itself, wishing it was normal. Wishing it had a flat top and a pointy bottom. The others did. They had gloated on the way out, when they had been picked, calling it a failure, a loser, damaged goods.\n",
      "\n",
      "But then the girl who picked it came over. She took it and...\n"
     ]
    }
   ],
   "execution_count": 29
  }
 ],
 "metadata": {
  "kernelspec": {
   "name": "python3",
   "language": "python",
   "display_name": "Python 3 (ipykernel)"
  }
 },
 "nbformat": 4,
 "nbformat_minor": 5
}
